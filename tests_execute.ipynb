{
 "cells": [
  {
   "cell_type": "markdown",
   "metadata": {},
   "source": [
    "#### This file executes the test scenarios."
   ]
  },
  {
   "cell_type": "code",
   "execution_count": 1,
   "metadata": {},
   "outputs": [],
   "source": [
    "import numpy as np\n",
    "import test_scenarios\n",
    "import inspect\n",
    "import siqcandar"
   ]
  },
  {
   "cell_type": "code",
   "execution_count": 2,
   "metadata": {},
   "outputs": [
    {
     "name": "stdout",
     "output_type": "stream",
     "text": [
      "<class 'siqcandar.siqc_ckt'>\n",
      "<class 'siqcandar.siqc_root'>\n"
     ]
    }
   ],
   "source": [
    "for name, obj in inspect.getmembers(siqcandar):\n",
    "    if inspect.isclass(obj):\n",
    "        print(obj)"
   ]
  },
  {
   "cell_type": "code",
   "execution_count": 3,
   "metadata": {},
   "outputs": [
    {
     "name": "stdout",
     "output_type": "stream",
     "text": [
      "Running tests ...\n",
      "---------------------------------------------------\n",
      "Running test 1\n",
      "Running test 2\n",
      "Running test 3\n",
      "Running test 4\n",
      "Running test 5\n",
      "Running test 6\n",
      "Running test 7\n",
      "Running test 8\n",
      "Running test 9\n",
      "Running test 10\n",
      "Running test 11\n",
      "Running test 12\n",
      "Running test 13\n",
      "Running test 14\n",
      "Running test 15\n",
      "Running test 16\n",
      "Results ( COUNT ): {'0': 531, '1': 469}\n",
      "Results ( COUNT ): {'0': 497, '1': 503}\n",
      "---------------------------------------------------\n",
      "Tests passed. Number of tests run =  16 . If you see this line without encountering any errors, it means the tests have passed.\n"
     ]
    }
   ],
   "source": [
    "test_scenarios.launch_tests()"
   ]
  }
 ],
 "metadata": {
  "kernelspec": {
   "display_name": "Python 3",
   "language": "python",
   "name": "python3"
  },
  "language_info": {
   "codemirror_mode": {
    "name": "ipython",
    "version": 3
   },
   "file_extension": ".py",
   "mimetype": "text/x-python",
   "name": "python",
   "nbconvert_exporter": "python",
   "pygments_lexer": "ipython3",
   "version": "3.8.5"
  }
 },
 "nbformat": 4,
 "nbformat_minor": 4
}
