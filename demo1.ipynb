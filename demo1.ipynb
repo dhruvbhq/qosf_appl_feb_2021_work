{
 "cells": [
  {
   "cell_type": "markdown",
   "metadata": {},
   "source": [
    "### Demonstration of SIQCANDAR simulator\n",
    "##### This is a demonstration of some capabilities of the siqcandar quantum computation simulator. For an example of the circuit drawing function, a separate demo2.py demo file will be found in the repository."
   ]
  },
  {
   "cell_type": "code",
   "execution_count": 1,
   "metadata": {},
   "outputs": [],
   "source": [
    "#Imports\n",
    "import numpy as np\n",
    "import matplotlib.pyplot as plt\n",
    "import siqcandar as siqc\n",
    "import time\n",
    "%matplotlib inline"
   ]
  },
  {
   "cell_type": "markdown",
   "metadata": {},
   "source": [
    "##### 1. State initialization\n",
    "##### The quantum circuits can be initialized to the ground state, a randomly generated state, or a custom state vector provided as an input. States with complex coefficients are supported. (If the input custom state vector is not of unit norm, an assertion will get fired.)"
   ]
  },
  {
   "cell_type": "code",
   "execution_count": 2,
   "metadata": {},
   "outputs": [
    {
     "name": "stdout",
     "output_type": "stream",
     "text": [
      "Initialized qa to ground state. state vector =\n",
      " [[1.+0.j]\n",
      " [0.+0.j]]\n",
      "Initialized qb to custom state. state vector =\n",
      " [[ 0.2773501 ]\n",
      " [ 0.39223227]\n",
      " [-0.48038446]\n",
      " [ 0.73379939]]\n",
      "Initialized qc to random state. state vector =\n",
      " [[ 0.29713523+0.07392377j]\n",
      " [-0.33575307-0.08264602j]\n",
      " [ 0.1600733 +0.16418852j]\n",
      " [ 0.35037793-0.27719809j]\n",
      " [-0.13900744+0.3975253j ]\n",
      " [ 0.27579938-0.30798192j]\n",
      " [ 0.38045339-0.05183901j]\n",
      " [-0.19380205-0.03523835j]]\n"
     ]
    }
   ],
   "source": [
    "#Create the circuits and then initialize\n",
    "\n",
    "# Initialize to ground state\n",
    "qa = siqc.siqc_ckt(name=\"qa\", num_qubits=1)\n",
    "qa.init_state(init_type=\"GROUND\")\n",
    "print(\"Initialized qa to ground state. state vector =\\n\", np.vstack(qa.st_vec))\n",
    "\n",
    "# Initialize to custom state\n",
    "qb = siqc.siqc_ckt(name=\"qb\", num_qubits=2)\n",
    "psi = np.array([1/np.sqrt(13), np.sqrt(2)/np.sqrt(13), -1*np.sqrt(3)/np.sqrt(13), np.sqrt(7)/np.sqrt(13)])\n",
    "qb.init_state(init_type=\"CUSTOM\", st_vec=psi)\n",
    "print(\"Initialized qb to custom state. state vector =\\n\", np.vstack(qb.st_vec))\n",
    "\n",
    "# Initialize to random state\n",
    "qc = siqc.siqc_ckt(name=\"qc\", num_qubits=3)\n",
    "qc.init_state(init_type=\"RANDOM\")\n",
    "print(\"Initialized qc to random state. state vector =\\n\", np.vstack(qc.st_vec))"
   ]
  },
  {
   "cell_type": "markdown",
   "metadata": {},
   "source": [
    "##### A method is also provided to initalize state vector via the label of the state in binary, as in to generate the state vector for |0101>."
   ]
  },
  {
   "cell_type": "code",
   "execution_count": 3,
   "metadata": {},
   "outputs": [
    {
     "name": "stdout",
     "output_type": "stream",
     "text": [
      "Initialized qd to custom state via labels. state vector =\n",
      " [[0.70710678+0.j        ]\n",
      " [0.        +0.j        ]\n",
      " [0.        +0.j        ]\n",
      " [0.        +0.70710678j]]\n"
     ]
    }
   ],
   "source": [
    "qd = siqc.siqc_ckt(name=\"qd\", num_qubits=2)\n",
    "psi = qd.give_state_by_label(\"00\") + qd.give_state_by_label(\"11\")*1j\n",
    "psi /= np.linalg.norm(psi)\n",
    "qd.init_state(init_type=\"CUSTOM\", st_vec=psi)\n",
    "print(\"Initialized qd to custom state via labels. state vector =\\n\", np.vstack(qd.st_vec))"
   ]
  },
  {
   "cell_type": "markdown",
   "metadata": {},
   "source": [
    "##### 2. Basic quantum gates\n",
    "##### In order to apply a quantum gate, the user has to specify a program, which is a list of dicts specifying the quantum gates. In the current implementation, a gate operation refers to the specified gate type acting on a single target qubit. It can also be a controlled gate, with a single control qubit case being currently supported. The supported gate types are H,X,Y,Z,I,S,T and PARAMETRIC gates. The simulator follows the little endian convention, ie qubits are numbered as |q3 q2 q1 q0>"
   ]
  },
  {
   "cell_type": "markdown",
   "metadata": {},
   "source": [
    "##### Non-controlled gate"
   ]
  },
  {
   "cell_type": "code",
   "execution_count": 4,
   "metadata": {},
   "outputs": [
    {
     "name": "stdout",
     "output_type": "stream",
     "text": [
      "Initialized qe to the state\n",
      " [[0.]\n",
      " [1.]]\n",
      "After executing the program, final state of qe is\n",
      " [[0.70710678+0.j        ]\n",
      " [0.        -0.70710678j]]\n"
     ]
    }
   ],
   "source": [
    "#Non-controlled gate\n",
    "qe = siqc.siqc_ckt(name=\"qe\", num_qubits=1)\n",
    "psi = qe.give_state_by_label(\"1\")\n",
    "qe.init_state(init_type=\"CUSTOM\", st_vec=psi)\n",
    "print(\"Initialized qe to the state\\n\", np.vstack(qe.st_vec))\n",
    "\n",
    "#Hadamard gate, followed by S gate\n",
    "program = [{\"gate_type\" : \"H\", \"target\" : 0},\n",
    "           {\"gate_type\" : \"S\", \"target\" : 0}]\n",
    "qe.execute_ckt(program)\n",
    "\n",
    "#Expected state should be (|0>-i|1>)/sqrt(2)\n",
    "print(\"After executing the program, final state of qe is\\n\", np.vstack(qe.st_vec))"
   ]
  },
  {
   "cell_type": "markdown",
   "metadata": {},
   "source": [
    "##### Controlled gates"
   ]
  },
  {
   "cell_type": "code",
   "execution_count": 5,
   "metadata": {},
   "outputs": [
    {
     "name": "stdout",
     "output_type": "stream",
     "text": [
      "After executing the program, final state of qf is\n",
      " [[0.        +0.j]\n",
      " [0.70710678+0.j]\n",
      " [0.        +0.j]\n",
      " [0.70710678+0.j]]\n",
      "After executing the program, final state of qg is\n",
      " [[0.+0.j]\n",
      " [0.+0.j]\n",
      " [1.+0.j]\n",
      " [0.+0.j]]\n",
      "After executing the program, final state of qh is\n",
      " [[0.70710678+0.j]\n",
      " [0.5       +0.j]\n",
      " [0.        +0.j]\n",
      " [0.5       +0.j]]\n"
     ]
    }
   ],
   "source": [
    "#Controlled H gate\n",
    "#circuit is |q1 q0>\n",
    "#Case 1 - Control qubit is |1>\n",
    "qf = siqc.siqc_ckt(name=\"qf\", num_qubits=2)\n",
    "psi = qf.give_state_by_label(\"01\")\n",
    "qf.init_state(init_type=\"CUSTOM\", st_vec=psi)\n",
    "program = [{\"gate_type\" : \"H\", \"target\" : 1, \"control\" : 0}]\n",
    "qf.execute_ckt(program)\n",
    "\n",
    "#Expected state should be (|01> + |11>)/sqrt(2)\n",
    "print(\"After executing the program, final state of qf is\\n\", np.vstack(qf.st_vec))\n",
    "\n",
    "#Case 2 - Control qubit is |0>\n",
    "qg = siqc.siqc_ckt(name=\"qg\", num_qubits=2)\n",
    "psi = qg.give_state_by_label(\"10\")\n",
    "qg.init_state(init_type=\"CUSTOM\", st_vec=psi)\n",
    "program = [{\"gate_type\" : \"H\", \"target\" : 1, \"control\" : 0}]\n",
    "qg.execute_ckt(program)\n",
    "\n",
    "#Expected state should be |10>\n",
    "print(\"After executing the program, final state of qg is\\n\", np.vstack(qg.st_vec))\n",
    "\n",
    "#Case 3 - Control qubit is (|0> + |1>)/sqrt(2)\n",
    "qh = siqc.siqc_ckt(name=\"qh\", num_qubits=2)\n",
    "psi = qh.give_state_by_label(\"00\") + qh.give_state_by_label(\"01\")\n",
    "psi /= np.linalg.norm(psi)\n",
    "qh.init_state(init_type=\"CUSTOM\", st_vec=psi)\n",
    "program = [{\"gate_type\" : \"H\", \"target\" : 1, \"control\" : 0}]\n",
    "qh.execute_ckt(program)\n",
    "\n",
    "#Expected state should be (|00>/sqrt(2)) + (|01>/2) + (|11>/2)\n",
    "print(\"After executing the program, final state of qh is\\n\", np.vstack(qh.st_vec))"
   ]
  },
  {
   "cell_type": "markdown",
   "metadata": {},
   "source": [
    "##### 3. The statevector visualizer\n",
    "##### The simulator supports a method to visualize the quantum state with its probability amplitudes and phase values. Positive phase is shown blue, negative phase is shown in red and 0 phase is shown as black. The intensity of the colour is proportional to the absolute magnitude of  the phase."
   ]
  },
  {
   "cell_type": "code",
   "execution_count": 6,
   "metadata": {},
   "outputs": [
    {
     "name": "stdout",
     "output_type": "stream",
     "text": [
      "Visualizing the state for qi after applying H gate to ground state:\n"
     ]
    },
    {
     "data": {
      "image/png": "[encoded data removed]",
      "text/plain": [
       "<Figure size 432x288 with 1 Axes>"
      ]
     },
     "metadata": {
      "needs_background": "light"
     },
     "output_type": "display_data"
    },
    {
     "name": "stdout",
     "output_type": "stream",
     "text": [
      "Height is equal to magnitude of the probability amplitude. Phase is depicted by colour. Blue means a positive phase; red stands for negative phase and black colour depicts a real number. A higher red/blue colour intensity means a higher absolute phase angle.\n"
     ]
    }
   ],
   "source": [
    "qi = siqc.siqc_ckt(name=\"qi\", num_qubits=1)\n",
    "qi.init_state(init_type=\"GROUND\")\n",
    "program = [{\"gate_type\" : \"H\", \"target\" : 0}]\n",
    "qi.execute_ckt(program)\n",
    "print(\"Visualizing the state for qi after applying H gate to ground state:\")\n",
    "qi.visualize_state()"
   ]
  },
  {
   "cell_type": "code",
   "execution_count": 7,
   "metadata": {},
   "outputs": [
    {
     "name": "stdout",
     "output_type": "stream",
     "text": [
      "Visualizing the state for qi after applying S gate:\n"
     ]
    },
    {
     "data": {
      "image/png": "[encoded data removed]",
      "text/plain": [
       "<Figure size 432x288 with 1 Axes>"
      ]
     },
     "metadata": {
      "needs_background": "light"
     },
     "output_type": "display_data"
    },
    {
     "name": "stdout",
     "output_type": "stream",
     "text": [
      "Height is equal to magnitude of the probability amplitude. Phase is depicted by colour. Blue means a positive phase; red stands for negative phase and black colour depicts a real number. A higher red/blue colour intensity means a higher absolute phase angle.\n"
     ]
    }
   ],
   "source": [
    "#Apply S gate to this circuit\n",
    "program = [{\"gate_type\" : \"S\", \"target\" : 0}]\n",
    "qi.execute_ckt(program)\n",
    "print(\"Visualizing the state for qi after applying S gate:\")\n",
    "qi.visualize_state()"
   ]
  },
  {
   "cell_type": "code",
   "execution_count": 8,
   "metadata": {},
   "outputs": [
    {
     "name": "stdout",
     "output_type": "stream",
     "text": [
      "Visualizing the state for qi after applying T:\n"
     ]
    },
    {
     "data": {
      "image/png": "[encoded data removed]",
      "text/plain": [
       "<Figure size 432x288 with 1 Axes>"
      ]
     },
     "metadata": {
      "needs_background": "light"
     },
     "output_type": "display_data"
    },
    {
     "name": "stdout",
     "output_type": "stream",
     "text": [
      "Height is equal to magnitude of the probability amplitude. Phase is depicted by colour. Blue means a positive phase; red stands for negative phase and black colour depicts a real number. A higher red/blue colour intensity means a higher absolute phase angle.\n"
     ]
    }
   ],
   "source": [
    "#Apply T gate\n",
    "program = [{\"gate_type\" : \"T\", \"target\" : 0}]\n",
    "qi.execute_ckt(program)\n",
    "print(\"Visualizing the state for qi after applying T:\")\n",
    "qi.visualize_state()"
   ]
  },
  {
   "cell_type": "markdown",
   "metadata": {},
   "source": [
    "##### Visualization for random state"
   ]
  },
  {
   "cell_type": "code",
   "execution_count": 9,
   "metadata": {},
   "outputs": [
    {
     "name": "stdout",
     "output_type": "stream",
     "text": [
      "Visualizing the state for qj after initializing randomly to the state\n",
      " [[ 0.36642963+0.04002511j]\n",
      " [-0.22825446-0.33303255j]\n",
      " [ 0.22184706+0.34257016j]\n",
      " [-0.31109821-0.36295175j]\n",
      " [ 0.13296714+0.25406867j]\n",
      " [ 0.24528593-0.02601261j]\n",
      " [ 0.07125825-0.13724287j]\n",
      " [ 0.05053867+0.3694449j ]] The phases are\n",
      " [[ 0.10879867]\n",
      " [-2.17164391]\n",
      " [ 0.99611296]\n",
      " [-2.27941737]\n",
      " [ 1.08864278]\n",
      " [-0.10565525]\n",
      " [-1.09189692]\n",
      " [ 1.43484393]]\n"
     ]
    },
    {
     "data": {
      "image/png": "[encoded data removed]",
      "text/plain": [
       "<Figure size 432x288 with 1 Axes>"
      ]
     },
     "metadata": {
      "needs_background": "light"
     },
     "output_type": "display_data"
    },
    {
     "name": "stdout",
     "output_type": "stream",
     "text": [
      "Height is equal to magnitude of the probability amplitude. Phase is depicted by colour. Blue means a positive phase; red stands for negative phase and black colour depicts a real number. A higher red/blue colour intensity means a higher absolute phase angle.\n"
     ]
    }
   ],
   "source": [
    "qj = siqc.siqc_ckt(name=\"qj\", num_qubits=3)\n",
    "qj.init_state(init_type=\"RANDOM\")\n",
    "print(\"Visualizing the state for qj after initializing randomly to the state\\n\", np.vstack(qj.st_vec),\n",
    "      \"The phases are\\n\", np.vstack(np.angle(qj.st_vec)))\n",
    "qj.visualize_state()"
   ]
  },
  {
   "cell_type": "markdown",
   "metadata": {},
   "source": [
    "##### 4. Measurement, % measurement and plotting measurement results\n",
    "##### The simulator has a method to perform the measurement of all qubits in the computational basis. It generates the measurement outcomes randomly by using the probability mass function obtained from the state vector (aka weighted random sampling). The number of random trials is specified by num_shots. I didn't know that python had such a sampler, so I implmented my own :D. The measurement outcomes can be obtained as frequency of outcomes, in percentage and can also be plotted in a bar graph."
   ]
  },
  {
   "cell_type": "code",
   "execution_count": 10,
   "metadata": {},
   "outputs": [
    {
     "name": "stdout",
     "output_type": "stream",
     "text": [
      "Measuring the circuit qi. State of qi is\n",
      " [[0.70710678+0.j ]\n",
      " [0.5       +0.5j]]\n",
      "Results ( PERCENT ): {'0': 48.53515625, '1': 51.46484375}\n"
     ]
    }
   ],
   "source": [
    "# Measuring the circuit qi\n",
    "# Displaying results in %\n",
    "print(\"Measuring the circuit qi. State of qi is\\n\", np.vstack(qi.st_vec))\n",
    "qi.measure_ckt(num_shots=1024, reporting_type=\"PERCENT\")"
   ]
  },
  {
   "cell_type": "code",
   "execution_count": 11,
   "metadata": {},
   "outputs": [
    {
     "data": {
      "image/png": "[encoded data removed]",
      "text/plain": [
       "<Figure size 432x288 with 1 Axes>"
      ]
     },
     "metadata": {
      "needs_background": "light"
     },
     "output_type": "display_data"
    }
   ],
   "source": [
    "qi.plot_measure_results()"
   ]
  },
  {
   "cell_type": "code",
   "execution_count": 12,
   "metadata": {},
   "outputs": [
    {
     "name": "stdout",
     "output_type": "stream",
     "text": [
      "State of qk =\n",
      " [[0.        +0.j        ]\n",
      " [0.70710678+0.j        ]\n",
      " [0.        +0.j        ]\n",
      " [0.        +0.j        ]\n",
      " [0.        +0.j        ]\n",
      " [0.        -0.70710678j]\n",
      " [0.        +0.j        ]\n",
      " [0.        +0.j        ]] \n",
      "The expected probabilities of measuring bases states are\n",
      " [[0. ]\n",
      " [0.5]\n",
      " [0. ]\n",
      " [0. ]\n",
      " [0. ]\n",
      " [0.5]\n",
      " [0. ]\n",
      " [0. ]] \n",
      "Measuring the circuit qk.\n",
      "Results ( COUNT ): {'000': 0, '001': 5038, '010': 0, '011': 0, '100': 0, '101': 4962, '110': 0, '111': 0}\n"
     ]
    },
    {
     "data": {
      "image/png": "[encoded data removed]",
      "text/plain": [
       "<Figure size 432x288 with 1 Axes>"
      ]
     },
     "metadata": {
      "needs_background": "light"
     },
     "output_type": "display_data"
    }
   ],
   "source": [
    "# Measuring a multi-qubit circuit\n",
    "qk = siqc.siqc_ckt(name=\"qk\", num_qubits=3)\n",
    "qk.init_state(init_type=\"GROUND\")\n",
    "program = [{\"gate_type\" : \"X\", \"target\" : 0},\n",
    "           {\"gate_type\" : \"X\", \"target\" : 2, \"control\" : 0},\n",
    "           {\"gate_type\" : \"H\", \"target\" : 2},\n",
    "           {\"gate_type\" : \"S\", \"target\" : 2}]\n",
    "qk.execute_ckt(program)\n",
    "print(\"State of qk =\\n\", np.vstack(qk.st_vec), \n",
    "      \"\\nThe expected probabilities of measuring bases states are\\n\", np.vstack(np.power(np.abs(qk.st_vec),2)),\n",
    "      \"\\nMeasuring the circuit qk.\")\n",
    "# Showing results in actual frequency of outcomes (which is also the default)\n",
    "qk.measure_ckt(num_shots=10000, reporting_type=\"COUNT\")\n",
    "qk.plot_measure_results()"
   ]
  },
  {
   "cell_type": "code",
   "execution_count": 13,
   "metadata": {},
   "outputs": [
    {
     "name": "stdout",
     "output_type": "stream",
     "text": [
      "State of ql =\n",
      " [[ 0.21444045+0.10718161j]\n",
      " [ 0.46291984-0.29841006j]\n",
      " [-0.41190276+0.45635745j]\n",
      " [ 0.42327306+0.28652745j]] \n",
      "The expected probabilities of measuring bases states are\n",
      " [[0.0574726 ]\n",
      " [0.30334334]\n",
      " [0.377926  ]\n",
      " [0.26125806]] \n",
      "Measuring the circuit ql.\n",
      "Results ( COUNT ): {'00': 592, '01': 3047, '10': 3772, '11': 2589}\n"
     ]
    },
    {
     "data": {
      "image/png": "[encoded data removed]",
      "text/plain": [
       "<Figure size 432x288 with 1 Axes>"
      ]
     },
     "metadata": {
      "needs_background": "light"
     },
     "output_type": "display_data"
    }
   ],
   "source": [
    "# Measuring a random, possibly complex state\n",
    "ql = siqc.siqc_ckt(name=\"qk\", num_qubits=2)\n",
    "ql.init_state(init_type=\"RANDOM\")\n",
    "print(\"State of ql =\\n\", np.vstack(ql.st_vec), \n",
    "      \"\\nThe expected probabilities of measuring bases states are\\n\", np.vstack(np.power(np.abs(ql.st_vec),2)),\n",
    "      \"\\nMeasuring the circuit ql.\")\n",
    "# Showing results in actual frequency of outcomes (which is also the default)\n",
    "ql.measure_ckt(num_shots=10000, reporting_type=\"COUNT\")\n",
    "ql.plot_measure_results()"
   ]
  },
  {
   "cell_type": "markdown",
   "metadata": {},
   "source": [
    "\n",
    "##### 5. State history and operations history\n",
    "##### It is possible to view the history of states that the circuit has been in as a result of initialization or application of gates. (Currently, states of a measured circuits are not collapsed) The simulator can also keep track of the operations applied to the circuit. This is useful for the circuit drawer method."
   ]
  },
  {
   "cell_type": "code",
   "execution_count": 14,
   "metadata": {},
   "outputs": [
    {
     "name": "stdout",
     "output_type": "stream",
     "text": [
      "The sequence of operations applied on the circuit qk are:\n",
      " [{'initialize': ''}, {'gate_type': 'X', 'target': 0, 'control': None, 'parametric_gate': None, 'parameters': None}, {'gate_type': 'X', 'target': 2, 'control': 0, 'parametric_gate': None, 'parameters': None}, {'gate_type': 'H', 'target': 2, 'control': None, 'parametric_gate': None, 'parameters': None}, {'gate_type': 'S', 'target': 2, 'control': None, 'parametric_gate': None, 'parameters': None}, {'measure': ''}]\n",
      "\n",
      "The states of qk due to these operations are:\n",
      " [array([1.+0.j, 0.+0.j, 0.+0.j, 0.+0.j, 0.+0.j, 0.+0.j, 0.+0.j, 0.+0.j]), array([0.+0.j, 1.+0.j, 0.+0.j, 0.+0.j, 0.+0.j, 0.+0.j, 0.+0.j, 0.+0.j]), array([0.+0.j, 0.+0.j, 0.+0.j, 0.+0.j, 0.+0.j, 1.+0.j, 0.+0.j, 0.+0.j]), array([ 0.        +0.j,  0.70710678+0.j,  0.        +0.j,  0.        +0.j,\n",
      "        0.        +0.j, -0.70710678+0.j,  0.        +0.j,  0.        +0.j]), array([0.        +0.j        , 0.70710678+0.j        ,\n",
      "       0.        +0.j        , 0.        +0.j        ,\n",
      "       0.        +0.j        , 0.        -0.70710678j,\n",
      "       0.        +0.j        , 0.        +0.j        ])]\n"
     ]
    }
   ],
   "source": [
    "print(\"The sequence of operations applied on the circuit qk are:\\n\", qk.op_hist)\n",
    "print(\"\\nThe states of qk due to these operations are:\\n\", qk.st_hist)"
   ]
  },
  {
   "cell_type": "markdown",
   "metadata": {},
   "source": [
    "##### 6. Parameterized gates and running a variational algorithm\n",
    "##### The parametric gate matrix can be passed as a list. The simulator will replace the parameters provided in a dict to calculate the gate matrix. Please ensure that the parameter names do not match with common functions, like exp, cos etc!\n",
    "##### A Non-controlled parametric gate is demonstrated. A single qubit-controlled parameterized gate acting on a single qubit is also supported."
   ]
  },
  {
   "cell_type": "code",
   "execution_count": 15,
   "metadata": {},
   "outputs": [
    {
     "name": "stdout",
     "output_type": "stream",
     "text": [
      "The expected state is\n",
      " [[ 0.3080127 -0.21650635j]\n",
      " [-0.09150635+0.59150635j]\n",
      " [ 0.3080127 -0.21650635j]\n",
      " [-0.09150635+0.59150635j]]\n",
      "The actual obtained state is\n",
      " [[ 0.3080127 -0.21650635j]\n",
      " [-0.09150635+0.59150635j]\n",
      " [ 0.3080127 -0.21650635j]\n",
      " [-0.09150635+0.59150635j]]\n",
      "The error between the expected and obtained state is 1.1102230246251565e-16\n"
     ]
    }
   ],
   "source": [
    "qm = siqc.siqc_ckt(name=\"qm\", num_qubits=2, tolerance=10**(-6))\n",
    "#U3 gate - parameters theta, alpha, phi\n",
    "my_u3 = [[\"cos(0.5 * theta)\"                , \"-1 * exp(alpha * 1j) * sin(0.5 * theta)\"],\n",
    "         [\"exp(phi * 1j) * sin(0.5 * theta)\", \"exp((phi + alpha) * 1.0j) * cos(0.5 * theta)\"]]\n",
    "my_u3_params = {\"theta\" : 1.0471975511965976,\n",
    "                \"phi\"   : 1.0471975511965976,\n",
    "                \"alpha\" : 1.0471975511965976} #all pi/3\n",
    "psi = qm.give_state_by_label(\"00\") + qm.give_state_by_label(\"01\") + qm.give_state_by_label(\"10\") + qm.give_state_by_label(\"11\")\n",
    "psi /= np.linalg.norm(psi)\n",
    "program = [{\"gate_type\" : \"PARAMETRIC\", \"target\" : 0, \"control\" : None, \n",
    "            \"parametric_gate\" : my_u3, \"parameters\" : my_u3_params}]\n",
    "\n",
    "qm.init_state(init_type=\"CUSTOM\", st_vec=psi)\n",
    "qm.execute_ckt(program)\n",
    "\n",
    "#Calculating the expected state\n",
    "exp_u3_gate =  np.array([[np.cos(0.5 * my_u3_params[\"theta\"]),\n",
    "                          -1 * np.exp(my_u3_params[\"alpha\"] * 1j) * np.sin(0.5 * my_u3_params[\"theta\"])],\n",
    "                         [np.exp(my_u3_params[\"phi\"] * 1j) * np.sin(0.5 * my_u3_params[\"theta\"]),\n",
    "                          np.exp((my_u3_params[\"phi\"] + my_u3_params[\"alpha\"]) * 1.0j) * np.cos(0.5 * my_u3_params[\"theta\"])]])\n",
    "#overall gate acting on the circuit is I kron exp_u3_gate\n",
    "overall_gate = np.kron(np.array([[1,0],[0,1]]), exp_u3_gate)\n",
    "exp_state = np.matmul(overall_gate, np.array([0.5,0.5,0.5,0.5]))\n",
    "\n",
    "print(\"The expected state is\\n\", np.vstack(exp_state))\n",
    "print(\"The actual obtained state is\\n\", np.vstack(qm.st_vec))\n",
    "print(\"The error between the expected and obtained state is\", np.linalg.norm(exp_state-qm.st_vec))"
   ]
  },
  {
   "cell_type": "markdown",
   "metadata": {},
   "source": [
    "##### Running a simple variational algorithm (this can be enhanced in future work)"
   ]
  },
  {
   "cell_type": "code",
   "execution_count": 16,
   "metadata": {},
   "outputs": [
    {
     "name": "stdout",
     "output_type": "stream",
     "text": [
      "[-3.14159265 -2.6927937  -2.24399475 -1.7951958  -1.34639685 -0.8975979\n",
      " -0.44879895  0.          0.44879895  0.8975979   1.34639685  1.7951958\n",
      "  2.24399475  2.6927937   3.14159265]\n",
      "Updating minimum cost to 9.679999999999823e-06\n",
      "Updating minimum cost to 6.480000000000172e-06\n",
      "Updating minimum cost to 2.8799999999998987e-06\n",
      "Updating minimum cost to 3.199999999999739e-07\n",
      "Updating minimum cost to 7.999999999998237e-08\n",
      "Updating minimum cost to 0.0\n",
      "Optimal parameters obtained are: {'theta_0': -3.141592653589793, 'alpha_0': 0.0, 'phi_0': 1.7951958020513104} \n",
      "minimum cost is:  0.0\n"
     ]
    }
   ],
   "source": [
    "#trying to approximate the uniform distribution\n",
    "target_dist = np.array([0.5,0.5])\n",
    "\n",
    "# Optimizing via grid search\n",
    "g_theta_0 = np.linspace(-1*np.pi,np.pi,15)\n",
    "g_alpha_0 = np.linspace(-1*np.pi,np.pi,15)\n",
    "g_phi_0 = np.linspace(-1*np.pi,np.pi,15)\n",
    "print(g_theta_0)\n",
    "min_cost = +100000000\n",
    "i=0\n",
    "\n",
    "for theta_0 in g_theta_0:\n",
    "    for alpha_0 in g_alpha_0:\n",
    "        for phi_0 in g_phi_0:\n",
    "            #if(i % 100 == 0):\n",
    "            #    print(\"overall iteration index =\", i)\n",
    "            i = i + 1\n",
    "            qn = siqc.siqc_ckt(name=\"qn\", num_qubits=1, tolerance=10**(-6))\n",
    "            qn.init_state(init_type=\"CUSTOM\", st_vec=np.array([1/np.sqrt(2),1/np.sqrt(2)]))\n",
    "            my_u3_0 = [[\"cos(0.5 * theta)\"                , \"-1 * exp(alpha * 1j) * sin(0.5 * theta)\"],\n",
    "                       [\"exp(phi * 1j) * sin(0.5 * theta)\", \"exp((phi + alpha) * 1.0j) * cos(0.5 * theta)\"]]\n",
    "            program = [{\"gate_type\" : \"PARAMETRIC\", \"target\" : 0, \"control\" : None, \"parametric_gate\" : my_u3_0,\n",
    "                        \"parameters\" : {\"theta\" : theta_0, \"alpha\" : alpha_0, \"phi\" : phi_0}}]\n",
    "            qn.execute_ckt(program)\n",
    "            qn.measure_ckt(num_shots=5000, quiet=True)\n",
    "            #calculating loss\n",
    "            cost = 0\n",
    "            for p in range(qn.st_dim):\n",
    "                cost += np.power(np.abs(target_dist[p]-(qn.results[qn.get_bin(p,qn.num_qubits)])/5000),2)\n",
    "            #if(i % 100 == 0):\n",
    "            #    print(\"cost = \", cost)\n",
    "            if(cost < min_cost):\n",
    "                min_cost = cost\n",
    "                print(\"Updating minimum cost to\", min_cost)\n",
    "                opt_params = []\n",
    "                opt_params = {\"theta_0\" : theta_0, \"alpha_0\": alpha_0, \"phi_0\" : phi_0}\n",
    "print(\"Optimal parameters obtained are:\", opt_params, \"\\nminimum cost is: \", min_cost)"
   ]
  },
  {
   "cell_type": "markdown",
   "metadata": {},
   "source": [
    "##### 7. Miscellaneous\n",
    "##### A. Multiple qubit circuit and swap operation"
   ]
  },
  {
   "cell_type": "code",
   "execution_count": 17,
   "metadata": {},
   "outputs": [
    {
     "name": "stdout",
     "output_type": "stream",
     "text": [
      "Expected output state =\n",
      " [[0.        ]\n",
      " [0.        ]\n",
      " [0.        ]\n",
      " [0.        ]\n",
      " [0.70710678]\n",
      " [0.        ]\n",
      " [0.70710678]\n",
      " [0.        ]]\n",
      "Obtained output state =\n",
      " [[0.        +0.j]\n",
      " [0.        +0.j]\n",
      " [0.        +0.j]\n",
      " [0.        +0.j]\n",
      " [0.70710678+0.j]\n",
      " [0.        +0.j]\n",
      " [0.70710678+0.j]\n",
      " [0.        +0.j]]\n",
      "Error between expected and observed states = 0.0\n"
     ]
    }
   ],
   "source": [
    "#Just to try out a scenario of interest, to test out the controlled gate implementation\n",
    "#Let us try to construct the 3-qubit state |0>|+>|1> and swap qubits 0 and 2\n",
    "qr = siqc.siqc_ckt(name=\"qr\", num_qubits=3)\n",
    "qr.init_state(init_type=\"GROUND\")\n",
    "program = [{\"gate_type\" : \"X\", \"target\" : 0},\n",
    "           {\"gate_type\" : \"H\", \"target\" : 1},\n",
    "           {\"gate_type\" : \"X\", \"target\" : 0, \"control\" : 2},\n",
    "           {\"gate_type\" : \"X\", \"target\" : 2, \"control\" : 0},\n",
    "           {\"gate_type\" : \"X\", \"target\" : 0, \"control\" : 2}]\n",
    "qr.execute_ckt(program)\n",
    "\n",
    "#To calculate the expected output state ie |1>|+>|0>\n",
    "ket_0 = np.array([1,0])\n",
    "ket_1 = np.array([0,1])\n",
    "ket_plus = (1/np.sqrt(2))*(ket_0 + ket_1)\n",
    "exp_st = np.kron(ket_1,np.kron(ket_plus,ket_0))\n",
    "print(\"Expected output state =\\n\", np.vstack(exp_st))\n",
    "print(\"Obtained output state =\\n\",np.vstack(qr.st_vec))\n",
    "print(\"Error between expected and observed states =\", np.linalg.norm(np.abs(exp_st-qr.st_vec)))"
   ]
  },
  {
   "cell_type": "markdown",
   "metadata": {},
   "source": [
    "##### B. Bloch angles calculation"
   ]
  },
  {
   "cell_type": "code",
   "execution_count": 18,
   "metadata": {},
   "outputs": [
    {
     "name": "stdout",
     "output_type": "stream",
     "text": [
      "State =\n",
      " [[0.70710678+0.j        ]\n",
      " [0.        +0.70710678j]]\n",
      "\n",
      "Obtained Bloch angles (in radian) are theta = 1.5707963267948968 , phi = 1.5707963267948966\n"
     ]
    }
   ],
   "source": [
    "#The simulator has a (rudimentary, work-in-progress) method to calculate the Bloch vector angles theta and phi\n",
    "#of a 1-qubit state.\n",
    "qs = siqc.siqc_ckt(name=\"qs\", num_qubits=1)\n",
    "qs.init_state(init_type=\"GROUND\")\n",
    "program = [{\"gate_type\" : \"H\", \"target\" : 0},\n",
    "           {\"gate_type\" : \"S\", \"target\" : 0}]\n",
    "qs.execute_ckt(program)\n",
    "theta, phi = qs.give_bloch_angles()\n",
    "print(\"State =\\n\", np.vstack(qs.st_vec))\n",
    "print(\"\\nObtained Bloch angles (in radian) are theta =\", theta, \", phi =\", phi)"
   ]
  },
  {
   "cell_type": "markdown",
   "metadata": {},
   "source": [
    "##### C.  Performance of the simulator for higher number of qubits"
   ]
  },
  {
   "cell_type": "code",
   "execution_count": 19,
   "metadata": {
    "scrolled": true
   },
   "outputs": [
    {
     "data": {
      "image/png": "[encoded data removed]",
      "text/plain": [
       "<Figure size 432x288 with 1 Axes>"
      ]
     },
     "metadata": {
      "needs_background": "light"
     },
     "output_type": "display_data"
    }
   ],
   "source": [
    "#Let us try to push the simulator to its limits in terms of number of qubits to see its performance\n",
    "#On my machine, the simulator runs into memory usage issues after 12 qubits\n",
    "max_qubits=12\n",
    "perf = np.zeros(max_qubits)\n",
    "start = 0\n",
    "for n in range(1,max_qubits+1):\n",
    "    start = time.time()\n",
    "    #print(\"Simulating number of qubits =\",n)\n",
    "    qt = siqc.siqc_ckt(name=\"qt\", num_qubits=n)\n",
    "    qt.init_state(init_type=\"GROUND\")\n",
    "    program = [{\"gate_type\" : \"H\", \"target\" : 0}]\n",
    "    qt.execute_ckt(program)\n",
    "    qt.measure_ckt(num_shots=1000, quiet=True)\n",
    "    perf[n-1] = time.time() - start\n",
    "\n",
    "plt.plot(np.arange(1,max_qubits+1,1), perf, marker='o')\n",
    "plt.title(\"Time consumed vs number of qubits in the circuit\")\n",
    "plt.xlabel('Number of qubits')\n",
    "plt.ylabel('Time (seconds)')\n",
    "plt.show()"
   ]
  },
  {
   "cell_type": "markdown",
   "metadata": {},
   "source": [
    "##### Discussion on possible performance improvement\n",
    "###### The time consumed seems to grow exponentially in the number of qubits. For simulating and measuring a simple circuit of 12 qubits, the time taken is around 7 seconds. In the current simulator, it is the memory requirement which limits its usage for higher number of qubits than (around) 12. Some methods which colud be explored to make the memory usage efficient might be:\n",
    "###### A) Using sparse arrays for gate matrices\n",
    "###### B) Using tensor state decompositions"
   ]
  },
  {
   "cell_type": "markdown",
   "metadata": {},
   "source": [
    "##### This concludes this demo. For more interesting computations which can be simulated on this simulator, like controlled gates, parametric gates, and more, do check out the test_plan.xlsx and test_scenarios.py files! P.S. Please do try the circuit drawing demo in the demo2.py file!\n",
    "\n",
    "##### The ones to be thanked for motivating this work:\n",
    "##### -QOSF\n",
    "##### -Petar Korponaić, Quantastica for the task description"
   ]
  }
 ],
 "metadata": {
  "kernelspec": {
   "display_name": "Python 3",
   "language": "python",
   "name": "python3"
  },
  "language_info": {
   "codemirror_mode": {
    "name": "ipython",
    "version": 3
   },
   "file_extension": ".py",
   "mimetype": "text/x-python",
   "name": "python",
   "nbconvert_exporter": "python",
   "pygments_lexer": "ipython3",
   "version": "3.8.5"
  }
 },
 "nbformat": 4,
 "nbformat_minor": 4
}
